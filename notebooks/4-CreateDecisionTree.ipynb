{
 "cells": [
  {
   "cell_type": "markdown",
   "metadata": {},
   "source": [
    "# Create Decision Tree Model"
   ]
  },
  {
   "cell_type": "code",
   "execution_count": 1,
   "metadata": {},
   "outputs": [],
   "source": [
    "import os\n",
    "import numpy as np\n",
    "import pandas as pd\n",
    "from sklearn.model_selection import train_test_split\n",
    "from sklearn.tree import DecisionTreeClassifier\n",
    "from sklearn.ensemble import RandomForestClassifier\n",
    "import joblib\n",
    "\n",
    "\n",
    "# make all output interactive\n",
    "from IPython.core.interactiveshell import InteractiveShell\n",
    "InteractiveShell.ast_node_interactivity = \"all\"\n",
    "\n",
    "import helper"
   ]
  },
  {
   "cell_type": "code",
   "execution_count": 2,
   "metadata": {},
   "outputs": [],
   "source": [
    "# Define file structure constants\n",
    "# ================================\n",
    "DATA_PATH = os.path.join(os.getcwd(), \"../data/\")\n",
    "RAW_DATA_PATH = os.path.join(DATA_PATH, \"raw\")\n",
    "DERIVED_DATA_PATH = os.path.join(DATA_PATH, \"derived\")"
   ]
  },
  {
   "cell_type": "code",
   "execution_count": 3,
   "metadata": {},
   "outputs": [],
   "source": [
    "# Read datasets\n",
    "# ================================\n",
    "# training_data\n",
    "training_data = helper.getTrainingData()"
   ]
  },
  {
   "cell_type": "markdown",
   "metadata": {},
   "source": [
    "## Decision Tree Model"
   ]
  },
  {
   "cell_type": "code",
   "execution_count": 7,
   "metadata": {},
   "outputs": [
    {
     "data": {
      "text/plain": [
       "DecisionTreeClassifier()"
      ]
     },
     "execution_count": 7,
     "metadata": {},
     "output_type": "execute_result"
    },
    {
     "data": {
      "text/plain": [
       "['../src/dtree_model.pkl']"
      ]
     },
     "execution_count": 7,
     "metadata": {},
     "output_type": "execute_result"
    }
   ],
   "source": [
    "# X -> features, y -> label\n",
    "X = training_data.loc[:, training_data.columns != 'suburb']\n",
    "y = training_data['suburb']\n",
    "  \n",
    "# Dividing X, y into train and test data\n",
    "X_train, X_test, y_train, y_test = train_test_split(X, y, random_state = 0)\n",
    "  \n",
    "# Training a DecisionTreeClassifier\n",
    "dtree_model = DecisionTreeClassifier()\n",
    "\n",
    "dtree_model.fit(X_train, y_train)\n",
    "# Save the model\n",
    "joblib.dump(dtree_model, '../src/dtree_model.pkl')"
   ]
  },
  {
   "cell_type": "markdown",
   "metadata": {},
   "source": [
    "## Predict on test set (REMOVE LATER)"
   ]
  },
  {
   "cell_type": "code",
   "execution_count": 5,
   "metadata": {},
   "outputs": [
    {
     "name": "stdout",
     "output_type": "stream",
     "text": [
      "0.56796\n"
     ]
    }
   ],
   "source": [
    "dtree_predictions = dtree_model.predict(X_test)\n",
    "  \n",
    "from sklearn.metrics import accuracy_score, classification_report, confusion_matrix\n",
    "print(accuracy_score(y_test, dtree_predictions))"
   ]
  },
  {
   "cell_type": "markdown",
   "metadata": {},
   "source": [
    "## Predict on new user input preference"
   ]
  },
  {
   "cell_type": "code",
   "execution_count": 8,
   "metadata": {},
   "outputs": [
    {
     "name": "stdout",
     "output_type": "stream",
     "text": [
      "Recommended Suburb: Essendon Fields\n",
      "              suburb  probability\n",
      "75   Essendon Fields     0.836053\n",
      "104  Heathcote South     0.045843\n",
      "31       Calder Park     0.039239\n",
      "186        Ravenhall     0.012432\n",
      "136    Lake Eppalock     0.010878\n",
      "..               ...          ...\n",
      "107  Heidelberg West     0.000000\n",
      "108        High Camp     0.000000\n",
      "109          Highett     0.000000\n",
      "110         Hilldene     0.000000\n",
      "0         Abbotsford     0.000000\n",
      "\n",
      "[258 rows x 2 columns]\n"
     ]
    }
   ],
   "source": [
    "# Load the decision tree model\n",
    "dtree_model = joblib.load('../src/dtree_model.pkl')\n",
    "\n",
    "# Example new user preference data\n",
    "input_data = training_data.sample(1)\n",
    "# Ensure order of columns in user preference data is same as training data\n",
    "input_data = input_data[dtree_model.feature_names_in_]\n",
    "\n",
    "# Predicted suburb with highest probability\n",
    "predicted_suburb = dtree_model.predict(input_data)\n",
    "print(\"Recommended Suburb:\", predicted_suburb[0])\n",
    "\n",
    "# List of predicted suburbs ranked by probability\n",
    "predicted_classes = dtree_model.classes_\n",
    "predicted_probabilities = dtree_model.predict_proba(input_data)\n",
    "\n",
    "recommended_suburb_list = pd.DataFrame(list(zip(predicted_classes, predicted_probabilities[0])), columns=['suburb','probability']).sort_values(by='probability', ascending=False)\n",
    "print(recommended_suburb_list)"
   ]
  },
  {
   "cell_type": "code",
   "execution_count": null,
   "metadata": {},
   "outputs": [],
   "source": []
  }
 ],
 "metadata": {
  "kernelspec": {
   "display_name": "Python 3.9.12 ('base')",
   "language": "python",
   "name": "python3"
  },
  "language_info": {
   "codemirror_mode": {
    "name": "ipython",
    "version": 3
   },
   "file_extension": ".py",
   "mimetype": "text/x-python",
   "name": "python",
   "nbconvert_exporter": "python",
   "pygments_lexer": "ipython3",
   "version": "3.9.12"
  },
  "orig_nbformat": 4,
  "vscode": {
   "interpreter": {
    "hash": "33fb8f05460858bbe3217712f392bc0dba23affd5dba274dc16ee5155b3c41c2"
   }
  }
 },
 "nbformat": 4,
 "nbformat_minor": 2
}
